{
  "nbformat": 4,
  "nbformat_minor": 5,
  "metadata": {
    "kernelspec": {
      "display_name": "Python 3",
      "language": "python",
      "name": "python3"
    },
    "language_info": {
      "codemirror_mode": {
        "name": "ipython",
        "version": 3
      },
      "file_extension": ".py",
      "mimetype": "text/x-python",
      "name": "python",
      "nbconvert_exporter": "python",
      "pygments_lexer": "ipython3",
      "version": "3.7.8"
    },
    "colab": {
      "name": "Prediction Using Supervised Machine Learning.ipynb",
      "provenance": [],
      "collapsed_sections": []
    }
  },
  "cells": [
    {
      "cell_type": "markdown",
      "metadata": {
        "id": "L46gnVU6hAlB"
      },
      "source": [
        "## Importing Necessary Libraries"
      ],
      "id": "L46gnVU6hAlB"
    },
    {
      "cell_type": "code",
      "metadata": {
        "id": "hispanic-buffer"
      },
      "source": [
        "import numpy as np\n",
        "import pandas as pd\n",
        "import matplotlib.pyplot as plt\n",
        "import seaborn as sns"
      ],
      "id": "hispanic-buffer",
      "execution_count": 1,
      "outputs": []
    },
    {
      "cell_type": "code",
      "metadata": {
        "colab": {
          "base_uri": "https://localhost:8080/",
          "height": 197
        },
        "id": "dense-supervisor",
        "outputId": "56b4b2e6-10ee-42a7-b4ff-1bf809d26e6d"
      },
      "source": [
        "#reading csv file\n",
        "df=pd.read_csv(\"http://bit.ly/w-data\")\n",
        "df.head()"
      ],
      "id": "dense-supervisor",
      "execution_count": 2,
      "outputs": [
        {
          "output_type": "execute_result",
          "data": {
            "text/html": [
              "<div>\n",
              "<style scoped>\n",
              "    .dataframe tbody tr th:only-of-type {\n",
              "        vertical-align: middle;\n",
              "    }\n",
              "\n",
              "    .dataframe tbody tr th {\n",
              "        vertical-align: top;\n",
              "    }\n",
              "\n",
              "    .dataframe thead th {\n",
              "        text-align: right;\n",
              "    }\n",
              "</style>\n",
              "<table border=\"1\" class=\"dataframe\">\n",
              "  <thead>\n",
              "    <tr style=\"text-align: right;\">\n",
              "      <th></th>\n",
              "      <th>Hours</th>\n",
              "      <th>Scores</th>\n",
              "    </tr>\n",
              "  </thead>\n",
              "  <tbody>\n",
              "    <tr>\n",
              "      <th>0</th>\n",
              "      <td>2.5</td>\n",
              "      <td>21</td>\n",
              "    </tr>\n",
              "    <tr>\n",
              "      <th>1</th>\n",
              "      <td>5.1</td>\n",
              "      <td>47</td>\n",
              "    </tr>\n",
              "    <tr>\n",
              "      <th>2</th>\n",
              "      <td>3.2</td>\n",
              "      <td>27</td>\n",
              "    </tr>\n",
              "    <tr>\n",
              "      <th>3</th>\n",
              "      <td>8.5</td>\n",
              "      <td>75</td>\n",
              "    </tr>\n",
              "    <tr>\n",
              "      <th>4</th>\n",
              "      <td>3.5</td>\n",
              "      <td>30</td>\n",
              "    </tr>\n",
              "  </tbody>\n",
              "</table>\n",
              "</div>"
            ],
            "text/plain": [
              "   Hours  Scores\n",
              "0    2.5      21\n",
              "1    5.1      47\n",
              "2    3.2      27\n",
              "3    8.5      75\n",
              "4    3.5      30"
            ]
          },
          "metadata": {
            "tags": []
          },
          "execution_count": 2
        }
      ]
    },
    {
      "cell_type": "markdown",
      "metadata": {
        "id": "lined-montreal"
      },
      "source": [
        "##                                        **Handling Missing Values**"
      ],
      "id": "lined-montreal"
    },
    {
      "cell_type": "code",
      "metadata": {
        "colab": {
          "base_uri": "https://localhost:8080/",
          "height": 286
        },
        "id": "secret-cement",
        "outputId": "6aad9ee9-6bc1-4f29-e638-3ca0c1090c2a"
      },
      "source": [
        "#using heatmap to see if there is any missing value in data set or not \n",
        "a=df.isnull()\n",
        "sns.heatmap(a,cmap=\"viridis\")"
      ],
      "id": "secret-cement",
      "execution_count": 3,
      "outputs": [
        {
          "output_type": "execute_result",
          "data": {
            "text/plain": [
              "<matplotlib.axes._subplots.AxesSubplot at 0x7f206c7ed4d0>"
            ]
          },
          "metadata": {
            "tags": []
          },
          "execution_count": 3
        },
        {
          "output_type": "display_data",
          "data": {
            "image/png": "[encoded data removed]",
            "text/plain": [
              "<Figure size 432x288 with 2 Axes>"
            ]
          },
          "metadata": {
            "tags": [],
            "needs_background": "light"
          }
        }
      ]
    },
    {
      "cell_type": "markdown",
      "metadata": {
        "id": "AHmP-x_Ui19i"
      },
      "source": [
        "# Applying Linear Regression Model"
      ],
      "id": "AHmP-x_Ui19i"
    },
    {
      "cell_type": "code",
      "metadata": {
        "id": "electric-tribute"
      },
      "source": [
        "X=df.iloc[:,:-1].values\n",
        "y=df.iloc[:,-1].values"
      ],
      "id": "electric-tribute",
      "execution_count": 4,
      "outputs": []
    },
    {
      "cell_type": "code",
      "metadata": {
        "id": "chronic-amazon"
      },
      "source": [
        "from sklearn.model_selection import train_test_split\n",
        "X_train,X_test,y_train,y_test=train_test_split(X,y,test_size=0.3)"
      ],
      "id": "chronic-amazon",
      "execution_count": 5,
      "outputs": []
    },
    {
      "cell_type": "code",
      "metadata": {
        "colab": {
          "base_uri": "https://localhost:8080/"
        },
        "id": "joint-industry",
        "outputId": "ea500c13-4bf6-4800-de5c-28538921459d"
      },
      "source": [
        "from sklearn.linear_model import LinearRegression \n",
        "lm=LinearRegression()\n",
        "lm.fit(X_train,y_train)"
      ],
      "id": "joint-industry",
      "execution_count": 6,
      "outputs": [
        {
          "output_type": "execute_result",
          "data": {
            "text/plain": [
              "LinearRegression(copy_X=True, fit_intercept=True, n_jobs=None, normalize=False)"
            ]
          },
          "metadata": {
            "tags": []
          },
          "execution_count": 6
        }
      ]
    },
    {
      "cell_type": "code",
      "metadata": {
        "id": "adjacent-impression"
      },
      "source": [
        "y_predict=lm.predict(X_test)"
      ],
      "id": "adjacent-impression",
      "execution_count": 7,
      "outputs": []
    },
    {
      "cell_type": "markdown",
      "metadata": {
        "id": "NRPalLdkjotM"
      },
      "source": [
        "# Comparing Actual vs Predicted Scores"
      ],
      "id": "NRPalLdkjotM"
    },
    {
      "cell_type": "code",
      "metadata": {
        "colab": {
          "base_uri": "https://localhost:8080/",
          "height": 287
        },
        "id": "c1J1DGU_jygu",
        "outputId": "251fb1a5-9812-42c7-a5a2-aaf8ee26983b"
      },
      "source": [
        "df1 = pd.DataFrame({'Actual scores': y_test, 'Predicted scores': y_predict})  \n",
        "df1 "
      ],
      "id": "c1J1DGU_jygu",
      "execution_count": 8,
      "outputs": [
        {
          "output_type": "execute_result",
          "data": {
            "text/html": [
              "<div>\n",
              "<style scoped>\n",
              "    .dataframe tbody tr th:only-of-type {\n",
              "        vertical-align: middle;\n",
              "    }\n",
              "\n",
              "    .dataframe tbody tr th {\n",
              "        vertical-align: top;\n",
              "    }\n",
              "\n",
              "    .dataframe thead th {\n",
              "        text-align: right;\n",
              "    }\n",
              "</style>\n",
              "<table border=\"1\" class=\"dataframe\">\n",
              "  <thead>\n",
              "    <tr style=\"text-align: right;\">\n",
              "      <th></th>\n",
              "      <th>Actual scores</th>\n",
              "      <th>Predicted scores</th>\n",
              "    </tr>\n",
              "  </thead>\n",
              "  <tbody>\n",
              "    <tr>\n",
              "      <th>0</th>\n",
              "      <td>17</td>\n",
              "      <td>12.839958</td>\n",
              "    </tr>\n",
              "    <tr>\n",
              "      <th>1</th>\n",
              "      <td>54</td>\n",
              "      <td>48.726332</td>\n",
              "    </tr>\n",
              "    <tr>\n",
              "      <th>2</th>\n",
              "      <td>30</td>\n",
              "      <td>26.418586</td>\n",
              "    </tr>\n",
              "    <tr>\n",
              "      <th>3</th>\n",
              "      <td>62</td>\n",
              "      <td>59.395254</td>\n",
              "    </tr>\n",
              "    <tr>\n",
              "      <th>4</th>\n",
              "      <td>27</td>\n",
              "      <td>33.207900</td>\n",
              "    </tr>\n",
              "    <tr>\n",
              "      <th>5</th>\n",
              "      <td>60</td>\n",
              "      <td>55.515646</td>\n",
              "    </tr>\n",
              "    <tr>\n",
              "      <th>6</th>\n",
              "      <td>86</td>\n",
              "      <td>77.823392</td>\n",
              "    </tr>\n",
              "    <tr>\n",
              "      <th>7</th>\n",
              "      <td>47</td>\n",
              "      <td>51.636038</td>\n",
              "    </tr>\n",
              "  </tbody>\n",
              "</table>\n",
              "</div>"
            ],
            "text/plain": [
              "   Actual scores  Predicted scores\n",
              "0             17         12.839958\n",
              "1             54         48.726332\n",
              "2             30         26.418586\n",
              "3             62         59.395254\n",
              "4             27         33.207900\n",
              "5             60         55.515646\n",
              "6             86         77.823392\n",
              "7             47         51.636038"
            ]
          },
          "metadata": {
            "tags": []
          },
          "execution_count": 8
        }
      ]
    },
    {
      "cell_type": "markdown",
      "metadata": {
        "id": "X0glpuvSjDdV"
      },
      "source": [
        "# Visualization"
      ],
      "id": "X0glpuvSjDdV"
    },
    {
      "cell_type": "code",
      "metadata": {
        "colab": {
          "base_uri": "https://localhost:8080/",
          "height": 350
        },
        "id": "synthetic-landing",
        "outputId": "ae9f8eab-872e-4852-bd6f-9be7c4a4a9d2"
      },
      "source": [
        "#for training set\n",
        "\n",
        "sns.set_style(\"darkgrid\")\n",
        "plt.figure(figsize=(14,5))\n",
        "plt.scatter(X_train,y_train,color=\"red\")                   \n",
        "plt.plot(X_train,lm.predict(X_train),color=\"violet\")\n",
        "plt.title(\"Hours studied per day Vs Scores \")\n",
        "plt.xlabel(\"Hours Studied \")\n",
        "plt.ylabel(\"Scores\")\n",
        "plt.show()"
      ],
      "id": "synthetic-landing",
      "execution_count": 9,
      "outputs": [
        {
          "output_type": "display_data",
          "data": {
            "image/png": "[encoded data removed]",
            "text/plain": [
              "<Figure size 1008x360 with 1 Axes>"
            ]
          },
          "metadata": {
            "tags": []
          }
        }
      ]
    },
    {
      "cell_type": "code",
      "metadata": {
        "colab": {
          "base_uri": "https://localhost:8080/",
          "height": 350
        },
        "id": "favorite-economy",
        "outputId": "d024acbd-9e14-4aa1-ccb5-68b70459dc80"
      },
      "source": [
        "#for test set\n",
        "\n",
        "sns.set_style(\"darkgrid\")\n",
        "plt.figure(figsize=(14,5))\n",
        "plt.scatter(X_test,y_test,color=\"red\")                          \n",
        "plt.plot(X_train,lm.predict(X_train),color=\"violet\")\n",
        "plt.title(\"Hours studied per day Vs Scores \")\n",
        "plt.xlabel(\"Hours Studied \")\n",
        "plt.ylabel(\"Scores\")\n",
        "plt.show()"
      ],
      "id": "favorite-economy",
      "execution_count": 10,
      "outputs": [
        {
          "output_type": "display_data",
          "data": {
            "image/png": "[encoded data removed]",
            "text/plain": [
              "<Figure size 1008x360 with 1 Axes>"
            ]
          },
          "metadata": {
            "tags": []
          }
        }
      ]
    },
    {
      "cell_type": "markdown",
      "metadata": {
        "id": "unavailable-tablet"
      },
      "source": [
        "# Evaluating the Performance of this Model  "
      ],
      "id": "unavailable-tablet"
    },
    {
      "cell_type": "code",
      "metadata": {
        "colab": {
          "base_uri": "https://localhost:8080/"
        },
        "id": "chief-quality",
        "outputId": "a04260e5-37a8-486a-a788-f3309625d3e6"
      },
      "source": [
        "from sklearn import metrics\n",
        "k=np.sqrt(metrics.mean_squared_error(y_test,y_predict))\n",
        "print(\"Square root of mean squared error is \",k)"
      ],
      "id": "chief-quality",
      "execution_count": 11,
      "outputs": [
        {
          "output_type": "stream",
          "text": [
            "Square root of mean squared error is  5.144487003895598\n"
          ],
          "name": "stdout"
        }
      ]
    },
    {
      "cell_type": "code",
      "metadata": {
        "colab": {
          "base_uri": "https://localhost:8080/"
        },
        "id": "national-scientist",
        "outputId": "e02c8591-0b4c-486d-c24a-0b37c39761c6"
      },
      "source": [
        "#Prediction of score for 9.5 hours study per day\n",
        "\n",
        "total_hours=np.array([[9.5]]) \n",
        "prediction = lm.predict(total_hours)\n",
        "print(\"No of Hours studied per day is {}\".format(9.5))\n",
        "print(\"Predicted Score is {}\".format(prediction[0]))"
      ],
      "id": "national-scientist",
      "execution_count": 12,
      "outputs": [
        {
          "output_type": "stream",
          "text": [
            "No of Hours studied per day is 9.5\n",
            "Predicted Score is 94.31172578478683\n"
          ],
          "name": "stdout"
        }
      ]
    }
  ]
}